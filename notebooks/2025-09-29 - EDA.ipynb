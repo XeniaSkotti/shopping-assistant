{
 "cells": [
  {
   "cell_type": "code",
   "execution_count": 1,
   "id": "b8c03dba",
   "metadata": {},
   "outputs": [
    {
     "name": "stderr",
     "output_type": "stream",
     "text": [
      "2025-09-29 19:36:40.894 WARNING streamlit.runtime.scriptrunner_utils.script_run_context: Thread 'MainThread': missing ScriptRunContext! This warning can be ignored when running in bare mode.\n",
      "2025-09-29 19:36:40.952 \n",
      "  \u001b[33m\u001b[1mWarning:\u001b[0m to view this Streamlit app on a browser, run it with the following\n",
      "  command:\n",
      "\n",
      "    streamlit run /Users/xenia/Desktop/Xenia/projects/shopping-assistant/.venv/lib/python3.13/site-packages/ipykernel_launcher.py [ARGUMENTS]\n",
      "2025-09-29 19:36:40.952 Thread 'MainThread': missing ScriptRunContext! This warning can be ignored when running in bare mode.\n",
      "2025-09-29 19:36:40.952 Thread 'MainThread': missing ScriptRunContext! This warning can be ignored when running in bare mode.\n"
     ]
    },
    {
     "name": "stdout",
     "output_type": "stream",
     "text": [
      "✅ Libraries imported successfully!\n"
     ]
    }
   ],
   "source": [
    "import sys\n",
    "sys.path.append('../')\n",
    "\n",
    "from shopping_assistant.preprocessor import DataPreprocessor\n",
    "\n",
    "print(\"✅ Libraries imported successfully!\")"
   ]
  },
  {
   "cell_type": "code",
   "execution_count": 2,
   "id": "28f66687",
   "metadata": {},
   "outputs": [],
   "source": [
    "raw_data_path = \"../data/FashionDataset.csv\"\n",
    "preprocessor = DataPreprocessor(raw_data_path)\n",
    "preprocessor.process()\n",
    "preprocessor.save(\"../data/clean_fashion_data.csv\")"
   ]
  },
  {
   "cell_type": "code",
   "execution_count": 9,
   "id": "7260143d",
   "metadata": {},
   "outputs": [
    {
     "data": {
      "text/html": [
       "<div>\n",
       "<style scoped>\n",
       "    .dataframe tbody tr th:only-of-type {\n",
       "        vertical-align: middle;\n",
       "    }\n",
       "\n",
       "    .dataframe tbody tr th {\n",
       "        vertical-align: top;\n",
       "    }\n",
       "\n",
       "    .dataframe thead th {\n",
       "        text-align: right;\n",
       "    }\n",
       "</style>\n",
       "<table border=\"1\" class=\"dataframe\">\n",
       "  <thead>\n",
       "    <tr style=\"text-align: right;\">\n",
       "      <th></th>\n",
       "      <th>mrp</th>\n",
       "      <th>sell_price</th>\n",
       "      <th>discount</th>\n",
       "      <th>sizes_count</th>\n",
       "      <th>product_id</th>\n",
       "    </tr>\n",
       "  </thead>\n",
       "  <tbody>\n",
       "    <tr>\n",
       "      <th>count</th>\n",
       "      <td>22550.000000</td>\n",
       "      <td>29575.000000</td>\n",
       "      <td>22550.000000</td>\n",
       "      <td>30758.000000</td>\n",
       "      <td>30758.000000</td>\n",
       "    </tr>\n",
       "    <tr>\n",
       "      <th>mean</th>\n",
       "      <td>25.123916</td>\n",
       "      <td>18.275274</td>\n",
       "      <td>44.894856</td>\n",
       "      <td>3.289421</td>\n",
       "      <td>15378.500000</td>\n",
       "    </tr>\n",
       "    <tr>\n",
       "      <th>std</th>\n",
       "      <td>22.063507</td>\n",
       "      <td>28.968282</td>\n",
       "      <td>15.023121</td>\n",
       "      <td>3.062683</td>\n",
       "      <td>8879.214126</td>\n",
       "    </tr>\n",
       "    <tr>\n",
       "      <th>min</th>\n",
       "      <td>1.420000</td>\n",
       "      <td>0.700000</td>\n",
       "      <td>0.000000</td>\n",
       "      <td>0.000000</td>\n",
       "      <td>0.000000</td>\n",
       "    </tr>\n",
       "    <tr>\n",
       "      <th>25%</th>\n",
       "      <td>13.290000</td>\n",
       "      <td>7.120000</td>\n",
       "      <td>30.000000</td>\n",
       "      <td>1.000000</td>\n",
       "      <td>7689.250000</td>\n",
       "    </tr>\n",
       "    <tr>\n",
       "      <th>50%</th>\n",
       "      <td>18.990000</td>\n",
       "      <td>11.490000</td>\n",
       "      <td>50.000000</td>\n",
       "      <td>4.000000</td>\n",
       "      <td>15378.500000</td>\n",
       "    </tr>\n",
       "    <tr>\n",
       "      <th>75%</th>\n",
       "      <td>29.440000</td>\n",
       "      <td>19.660000</td>\n",
       "      <td>55.000000</td>\n",
       "      <td>5.000000</td>\n",
       "      <td>23067.750000</td>\n",
       "    </tr>\n",
       "    <tr>\n",
       "      <th>max</th>\n",
       "      <td>313.450000</td>\n",
       "      <td>1353.750000</td>\n",
       "      <td>85.000000</td>\n",
       "      <td>61.000000</td>\n",
       "      <td>30757.000000</td>\n",
       "    </tr>\n",
       "  </tbody>\n",
       "</table>\n",
       "</div>"
      ],
      "text/plain": [
       "                mrp    sell_price      discount   sizes_count    product_id\n",
       "count  22550.000000  29575.000000  22550.000000  30758.000000  30758.000000\n",
       "mean      25.123916     18.275274     44.894856      3.289421  15378.500000\n",
       "std       22.063507     28.968282     15.023121      3.062683   8879.214126\n",
       "min        1.420000      0.700000      0.000000      0.000000      0.000000\n",
       "25%       13.290000      7.120000     30.000000      1.000000   7689.250000\n",
       "50%       18.990000     11.490000     50.000000      4.000000  15378.500000\n",
       "75%       29.440000     19.660000     55.000000      5.000000  23067.750000\n",
       "max      313.450000   1353.750000     85.000000     61.000000  30757.000000"
      ]
     },
     "execution_count": 9,
     "metadata": {},
     "output_type": "execute_result"
    }
   ],
   "source": [
    "preprocessor.processed_data.describe()"
   ]
  },
  {
   "cell_type": "code",
   "execution_count": 11,
   "id": "fd5fcdd5",
   "metadata": {},
   "outputs": [
    {
     "data": {
      "text/plain": [
       "brand               0\n",
       "details             0\n",
       "sizes               0\n",
       "mrp              8208\n",
       "sell_price       1183\n",
       "discount         8208\n",
       "category            0\n",
       "sizes_count         0\n",
       "material        15197\n",
       "fit             27719\n",
       "neck_type       23383\n",
       "pattern         16929\n",
       "garment_type    19488\n",
       "price_range         0\n",
       "product_id          0\n",
       "dtype: int64"
      ]
     },
     "execution_count": 11,
     "metadata": {},
     "output_type": "execute_result"
    }
   ],
   "source": [
    "# let's look at the nan values\n",
    "preprocessor.processed_data.isna().sum()"
   ]
  },
  {
   "cell_type": "code",
   "execution_count": 13,
   "id": "2bea5c28",
   "metadata": {},
   "outputs": [
    {
     "data": {
      "text/plain": [
       "['Nan',\n",
       " 'printed v-neck viscose womens regular fit night dress - blue',\n",
       " 'turquoise sequins and zari embroidery yoke straight kurta with gota work sleeves - blue',\n",
       " 'Nan',\n",
       " 'printed rayon blend mandarin womens salwar kurta dupatta set - coral',\n",
       " 'floral polyester round neck womens fit and flare top - multi',\n",
       " 'leaf of faith earrings in gold plated 925 silver',\n",
       " 'Nan',\n",
       " 'womens sheath fit v neck check flared jumpsuit - black',\n",
       " 'solid satin cowl neck womens regular fit nightie - pearl',\n",
       " 'printed polyester v neck womens dress - black',\n",
       " 'polyurethane round toe womens casual ballerinas - navy',\n",
       " 'printed round neck modal womens anarkali kurta - red',\n",
       " 'solid cotton mid thigh womens night wear shorts - pale yellow',\n",
       " 'printed round neck cotton blend womens calf length kurta - ecru',\n",
       " 'womens cotton non-padded non-wired animal print bra - pink',\n",
       " 'synthetic womens casual wear sandals - purple',\n",
       " 'dyed v-neck polyester womens regular dress - black',\n",
       " 'printed rayon round neck womens shirt top - mustard',\n",
       " 'checks polyester womens formal jacket - mid blue']"
      ]
     },
     "execution_count": 13,
     "metadata": {},
     "output_type": "execute_result"
    }
   ],
   "source": [
    "preprocessor.processed_data.details.sample(20).to_list()"
   ]
  },
  {
   "cell_type": "code",
   "execution_count": null,
   "id": "0ee3a842",
   "metadata": {},
   "outputs": [],
   "source": []
  }
 ],
 "metadata": {
  "kernelspec": {
   "display_name": ".venv",
   "language": "python",
   "name": "python3"
  },
  "language_info": {
   "codemirror_mode": {
    "name": "ipython",
    "version": 3
   },
   "file_extension": ".py",
   "mimetype": "text/x-python",
   "name": "python",
   "nbconvert_exporter": "python",
   "pygments_lexer": "ipython3",
   "version": "3.13.7"
  }
 },
 "nbformat": 4,
 "nbformat_minor": 5
}
