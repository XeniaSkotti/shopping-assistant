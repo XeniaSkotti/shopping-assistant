{
 "cells": [
  {
   "cell_type": "code",
   "execution_count": 1,
   "id": "b8c03dba",
   "metadata": {},
   "outputs": [
    {
     "name": "stderr",
     "output_type": "stream",
     "text": [
      "2025-09-29 20:36:47.437 WARNING streamlit.runtime.scriptrunner_utils.script_run_context: Thread 'MainThread': missing ScriptRunContext! This warning can be ignored when running in bare mode.\n",
      "2025-09-29 20:36:47.489 \n",
      "  \u001b[33m\u001b[1mWarning:\u001b[0m to view this Streamlit app on a browser, run it with the following\n",
      "  command:\n",
      "\n",
      "    streamlit run /Users/xenia/Desktop/Xenia/projects/shopping-assistant/.venv/lib/python3.13/site-packages/ipykernel_launcher.py [ARGUMENTS]\n",
      "2025-09-29 20:36:47.490 Thread 'MainThread': missing ScriptRunContext! This warning can be ignored when running in bare mode.\n",
      "2025-09-29 20:36:47.490 Thread 'MainThread': missing ScriptRunContext! This warning can be ignored when running in bare mode.\n"
     ]
    },
    {
     "name": "stdout",
     "output_type": "stream",
     "text": [
      "✅ Libraries imported successfully!\n"
     ]
    }
   ],
   "source": [
    "import sys\n",
    "sys.path.append('../')\n",
    "\n",
    "from shopping_assistant.preprocessor import DataPreprocessor\n",
    "\n",
    "%load_ext autoreload\n",
    "%autoreload 2\n",
    "\n",
    "print(\"✅ Libraries imported successfully!\")"
   ]
  },
  {
   "cell_type": "code",
   "execution_count": 2,
   "id": "28f66687",
   "metadata": {},
   "outputs": [],
   "source": [
    "raw_data_path = \"../data/FashionDataset.csv\"\n",
    "preprocessor = DataPreprocessor(raw_data_path)\n",
    "preprocessor.process()\n",
    "preprocessor.save(\"../data/clean_fashion_data.csv\")\n",
    "df = preprocessor.processed_data"
   ]
  },
  {
   "cell_type": "code",
   "execution_count": 3,
   "id": "a4fa4db3",
   "metadata": {},
   "outputs": [
    {
     "data": {
      "text/plain": [
       "Index(['details', 'sizes', 'mrp', 'mrp', 'sell_price', 'discount_pct', 'sizes',\n",
       "       'sizes_count', 'brand', 'category', 'color_family', 'product_type',\n",
       "       'price_range', 'product_id'],\n",
       "      dtype='object')"
      ]
     },
     "execution_count": 3,
     "metadata": {},
     "output_type": "execute_result"
    }
   ],
   "source": [
    "df.columns"
   ]
  },
  {
   "cell_type": "code",
   "execution_count": 4,
   "id": "7260143d",
   "metadata": {},
   "outputs": [
    {
     "data": {
      "text/html": [
       "<div>\n",
       "<style scoped>\n",
       "    .dataframe tbody tr th:only-of-type {\n",
       "        vertical-align: middle;\n",
       "    }\n",
       "\n",
       "    .dataframe tbody tr th {\n",
       "        vertical-align: top;\n",
       "    }\n",
       "\n",
       "    .dataframe thead th {\n",
       "        text-align: right;\n",
       "    }\n",
       "</style>\n",
       "<table border=\"1\" class=\"dataframe\">\n",
       "  <thead>\n",
       "    <tr style=\"text-align: right;\">\n",
       "      <th></th>\n",
       "      <th>mrp</th>\n",
       "      <th>sell_price</th>\n",
       "      <th>discount_pct</th>\n",
       "      <th>sizes_count</th>\n",
       "      <th>product_id</th>\n",
       "    </tr>\n",
       "  </thead>\n",
       "  <tbody>\n",
       "    <tr>\n",
       "      <th>count</th>\n",
       "      <td>22550.000000</td>\n",
       "      <td>29575.000000</td>\n",
       "      <td>22550.000000</td>\n",
       "      <td>30758.000000</td>\n",
       "      <td>30758.000000</td>\n",
       "    </tr>\n",
       "    <tr>\n",
       "      <th>mean</th>\n",
       "      <td>25.123916</td>\n",
       "      <td>18.275274</td>\n",
       "      <td>44.894856</td>\n",
       "      <td>0.861174</td>\n",
       "      <td>15378.500000</td>\n",
       "    </tr>\n",
       "    <tr>\n",
       "      <th>std</th>\n",
       "      <td>22.063507</td>\n",
       "      <td>28.968282</td>\n",
       "      <td>15.023121</td>\n",
       "      <td>1.781084</td>\n",
       "      <td>8879.214126</td>\n",
       "    </tr>\n",
       "    <tr>\n",
       "      <th>min</th>\n",
       "      <td>1.420000</td>\n",
       "      <td>0.700000</td>\n",
       "      <td>0.000000</td>\n",
       "      <td>0.000000</td>\n",
       "      <td>0.000000</td>\n",
       "    </tr>\n",
       "    <tr>\n",
       "      <th>25%</th>\n",
       "      <td>13.290000</td>\n",
       "      <td>7.120000</td>\n",
       "      <td>30.000000</td>\n",
       "      <td>0.000000</td>\n",
       "      <td>7689.250000</td>\n",
       "    </tr>\n",
       "    <tr>\n",
       "      <th>50%</th>\n",
       "      <td>18.990000</td>\n",
       "      <td>11.490000</td>\n",
       "      <td>50.000000</td>\n",
       "      <td>0.000000</td>\n",
       "      <td>15378.500000</td>\n",
       "    </tr>\n",
       "    <tr>\n",
       "      <th>75%</th>\n",
       "      <td>29.440000</td>\n",
       "      <td>19.660000</td>\n",
       "      <td>55.000000</td>\n",
       "      <td>0.750000</td>\n",
       "      <td>23067.750000</td>\n",
       "    </tr>\n",
       "    <tr>\n",
       "      <th>max</th>\n",
       "      <td>313.450000</td>\n",
       "      <td>1353.750000</td>\n",
       "      <td>85.000000</td>\n",
       "      <td>17.000000</td>\n",
       "      <td>30757.000000</td>\n",
       "    </tr>\n",
       "  </tbody>\n",
       "</table>\n",
       "</div>"
      ],
      "text/plain": [
       "                mrp    sell_price  discount_pct   sizes_count    product_id\n",
       "count  22550.000000  29575.000000  22550.000000  30758.000000  30758.000000\n",
       "mean      25.123916     18.275274     44.894856      0.861174  15378.500000\n",
       "std       22.063507     28.968282     15.023121      1.781084   8879.214126\n",
       "min        1.420000      0.700000      0.000000      0.000000      0.000000\n",
       "25%       13.290000      7.120000     30.000000      0.000000   7689.250000\n",
       "50%       18.990000     11.490000     50.000000      0.000000  15378.500000\n",
       "75%       29.440000     19.660000     55.000000      0.750000  23067.750000\n",
       "max      313.450000   1353.750000     85.000000     17.000000  30757.000000"
      ]
     },
     "execution_count": 4,
     "metadata": {},
     "output_type": "execute_result"
    }
   ],
   "source": [
    "df.describe()"
   ]
  },
  {
   "cell_type": "code",
   "execution_count": 5,
   "id": "fd5fcdd5",
   "metadata": {},
   "outputs": [
    {
     "data": {
      "text/plain": [
       "details            0\n",
       "sizes              0\n",
       "mrp                0\n",
       "mrp             8208\n",
       "sell_price      1183\n",
       "discount_pct    8208\n",
       "sizes              0\n",
       "sizes_count        0\n",
       "brand              0\n",
       "category           0\n",
       "color_family    3333\n",
       "product_type    7150\n",
       "price_range        0\n",
       "product_id         0\n",
       "dtype: int64"
      ]
     },
     "execution_count": 5,
     "metadata": {},
     "output_type": "execute_result"
    }
   ],
   "source": [
    "# let's look at the nan values\n",
    "df.isna().sum()"
   ]
  },
  {
   "cell_type": "code",
   "execution_count": 6,
   "id": "2bea5c28",
   "metadata": {},
   "outputs": [
    {
     "data": {
      "text/plain": [
       "['solid collar polyester womens regular fit dress - berry',\n",
       " 'womens angelic bracelet',\n",
       " 'Nan',\n",
       " 'Nan',\n",
       " 'solid crepe regular neck womens regular dress - wine']"
      ]
     },
     "execution_count": 6,
     "metadata": {},
     "output_type": "execute_result"
    }
   ],
   "source": [
    "df.loc[df.color_family.isna(), \"details\"].sample(5).to_list()"
   ]
  },
  {
   "cell_type": "code",
   "execution_count": 19,
   "id": "0ee3a842",
   "metadata": {},
   "outputs": [
    {
     "data": {
      "text/plain": [
       "occasion\n",
       "casual         3115\n",
       "festive        1853\n",
       "ethnic         1010\n",
       "party           341\n",
       "sports          311\n",
       "western         214\n",
       "formal          205\n",
       "everyday         81\n",
       "vintage          70\n",
       "traditional      46\n",
       "modern           12\n",
       "wedding           6\n",
       "Name: count, dtype: int64"
      ]
     },
     "execution_count": 19,
     "metadata": {},
     "output_type": "execute_result"
    }
   ],
   "source": [
    "df.occasion.value_counts()\n"
   ]
  },
  {
   "cell_type": "code",
   "execution_count": null,
   "id": "4f129e89",
   "metadata": {},
   "outputs": [],
   "source": []
  }
 ],
 "metadata": {
  "kernelspec": {
   "display_name": ".venv",
   "language": "python",
   "name": "python3"
  },
  "language_info": {
   "codemirror_mode": {
    "name": "ipython",
    "version": 3
   },
   "file_extension": ".py",
   "mimetype": "text/x-python",
   "name": "python",
   "nbconvert_exporter": "python",
   "pygments_lexer": "ipython3",
   "version": "3.13.7"
  }
 },
 "nbformat": 4,
 "nbformat_minor": 5
}
